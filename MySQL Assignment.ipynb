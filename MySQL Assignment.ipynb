{
 "cells": [
  {
   "cell_type": "markdown",
   "id": "c9dd759c-82b9-4fc5-b48e-1855ec1922ca",
   "metadata": {},
   "source": [
    "Q.1 - What is a database? Differentiate between SQL and NoSQL databases."
   ]
  },
  {
   "cell_type": "markdown",
   "id": "38467d07-4faa-40df-878e-52a2667a52d5",
   "metadata": {},
   "source": [
    "Answer -\n",
    "A database is an organized collection of data, so that it can be easily accessed and managed.\n",
    "There are many databases available like MySQL, Sybase, Oracle, MongoDB, Informix, PostgreSQL, SQL Server, etc.\n",
    "\n",
    "Difference between SQL and NoSQL databases-\n",
    "SQL databases are relational, and NoSQL databases are non-relational. SQL databases use structured query language (SQL) and have a predefined schema. NoSQL databases have dynamic schemas for unstructured data. SQL databases are vertically scalable, while NoSQL databases are horizontally scalable.  A MySQL database is currently more popular in the market than NoSQL because the latter is still fairly new.\n",
    "In NoSQL databases, data is stored together (not separately, as with SQL). This means that it's faster to perform read or write operations on one data entity compared with SQL databases."
   ]
  },
  {
   "cell_type": "markdown",
   "id": "8af47dad-384b-4404-89b2-a6d616b6791f",
   "metadata": {},
   "source": [
    "Q.2 - What is DDL? Explain why CREATE, DROP, ALTER, and TRUNCATE are used with an example."
   ]
  },
  {
   "cell_type": "markdown",
   "id": "a72238a2-aa00-4a6b-9aaa-d1a15e2bfbc2",
   "metadata": {},
   "source": [
    "Answer - \n",
    "A data definition language (DDL) is a computer language used to create and modify the structure of database objects in a database."
   ]
  },
  {
   "cell_type": "markdown",
   "id": "0383be5f-6239-45b1-9355-af32e83e4267",
   "metadata": {},
   "source": [
    "#Example of CREATE\n",
    "#This command is used to create the database or its objects (like table, index, function, views, store procedure, and triggers).\n",
    "import mysql.connector\n",
    "mydb = mysql.connector.connect(\n",
    "  host=\"localhost\",\n",
    "  user=\"abc\",\n",
    "  password=\"password\"\n",
    ")\n",
    "mycursor = mydb.cursor()\n",
    "mycursor.execute(\"CREATE DATABASE Mylist1\")\n",
    "mydb.close()"
   ]
  },
  {
   "cell_type": "markdown",
   "id": "6551c816-0f03-46d7-afb3-493703d0d771",
   "metadata": {},
   "source": [
    "#Example of DROP\n",
    "#In SQL, the DROP command is used to remove the whole database or table indexes, data, and more.\n",
    "DROP TABLE employees;  for drop this command have to use"
   ]
  },
  {
   "cell_type": "markdown",
   "id": "4ce4a5ea-2822-4b05-834d-e1da94dfbf9d",
   "metadata": {},
   "source": [
    "#Example of ALTER\n",
    "\n",
    "The ALTER TABLE command adds, deletes, or modifies columns in a table.\n",
    "\n",
    "The ALTER TABLE command also adds and deletes various constraints in a table.\n",
    "\n",
    "ALTER TABLE Customers\n",
    "ADD Email varchar(255);   #The following SQL adds an \"Email\" column to the \"Customers\" table:\n",
    "\n",
    "ALTER TABLE Customers\n",
    "DROP COLUMN Email;       # The following SQL deletes the \"Email\" column from the \"Customers\" table:"
   ]
  },
  {
   "cell_type": "markdown",
   "id": "c0d0eb8a-6214-4588-8780-605284cbbefe",
   "metadata": {},
   "source": [
    "#Example of TRUNCATE\n",
    "#TRUNCATE : This is used to remove all records from a table, including all spaces allocated for the records are removed.\n",
    "TRUNCATE TABLE table_name;"
   ]
  },
  {
   "cell_type": "markdown",
   "id": "67b88511-28d7-4563-9eb0-7339129b3cd9",
   "metadata": {},
   "source": [
    "Q.3 - What is DML? Explain INSERT, UPDATE, and DELETE with an example."
   ]
  },
  {
   "cell_type": "markdown",
   "id": "0cfa5819-eb5b-4c0c-8ae4-1b7ef1c60803",
   "metadata": {},
   "source": [
    "Answer - \n",
    "It is the component of the SQL statement that controls access to data and to the database. Basically, DCL statements are grouped with DML statements. List of DML commands: INSERT: It is used to insert data into a table. UPDATE: It is used to update existing data within a table. DELETE: It is used to delete records from a database table."
   ]
  },
  {
   "cell_type": "markdown",
   "id": "7a7ceb08-8ed3-4929-9b24-4bd79774b1e7",
   "metadata": {},
   "source": [
    "Q.4 - What is DQL? Explain SELECT with an example."
   ]
  },
  {
   "cell_type": "markdown",
   "id": "4a08e0b9-0e83-46b0-a67f-b7cb011e3e54",
   "metadata": {},
   "source": [
    "DQL (Data Query Language)\n",
    "DQL statements are used for performing queries on the data within schema objects. The purpose of the DQL Command is to get some schema relation based on the query passed to it. We can define DQL as follows it is a component of SQL statement that allows getting data from the database and imposing order upon it. It includes the SELECT statement. This command allows getting the data out of the database to perform operations with it. When a SELECT is fired against a table or tables the result is compiled into a further temporary table, which is displayed or perhaps received by the program i.e. a front-end.\n",
    "\n",
    "SELECT: It is used to retrieve data from the database."
   ]
  },
  {
   "cell_type": "markdown",
   "id": "7374770e-2f38-43b8-ae50-9e236a16e8b2",
   "metadata": {},
   "source": [
    "Q.5 - Explain Primary Key and Foreign Key."
   ]
  },
  {
   "cell_type": "markdown",
   "id": "c61d6f0a-b2c0-41e9-8374-274907b4c90f",
   "metadata": {},
   "source": [
    "A primary key generally focuses on the uniqueness of the table. It assures the value in the specific column is unique. A foreign key is generally used to build a relationship between the two tables. The table allows only one primary key."
   ]
  },
  {
   "cell_type": "markdown",
   "id": "fa721638-48d1-4b9c-bd27-453a457ebf25",
   "metadata": {},
   "source": [
    "Q.6 - Write a python code to connect MySQL to python. Explain the cursor() and execute() method."
   ]
  },
  {
   "cell_type": "markdown",
   "id": "c6f0c0a0-667c-425b-adf5-4434a702a7c3",
   "metadata": {},
   "source": [
    "import mysql.connector\n",
    "mydb = mysql.connector.connect(\n",
    "  host=\"localhost\",\n",
    "  user=\"abc\",\n",
    "  password=\"password\"\n",
    ")\n",
    "print(mydb)\n",
    "mycursor = mydb.cursor()\n",
    "mycursor.execute(\"insert into Mylist1.test_table values(123 , 'aleem', 234.52 , 456 , 'kaleem')\")\n",
    "mydb.commit()\n",
    "mydb.close()"
   ]
  },
  {
   "cell_type": "markdown",
   "id": "01acb8a9-630b-49a8-986d-d97cbc814bf7",
   "metadata": {},
   "source": [
    "Q.7 - Give the order of execution of SQL clauses in an SQL query."
   ]
  },
  {
   "cell_type": "markdown",
   "id": "470afe5d-8826-4aac-b75e-c1a23efd7966",
   "metadata": {},
   "source": [
    "SELECT DISTINCT column, AGG_FUNC(column_or_expression), …\n",
    "FROM mytable\n",
    "    JOIN another_table\n",
    "      ON mytable.column = another_table.column\n",
    "    WHERE constraint_expression\n",
    "    GROUP BY column\n",
    "    HAVING constraint_expression\n",
    "    ORDER BY column ASC/DESC\n",
    "    LIMIT count OFFSET COUNT;"
   ]
  }
 ],
 "metadata": {
  "kernelspec": {
   "display_name": "Python 3 (ipykernel)",
   "language": "python",
   "name": "python3"
  },
  "language_info": {
   "codemirror_mode": {
    "name": "ipython",
    "version": 3
   },
   "file_extension": ".py",
   "mimetype": "text/x-python",
   "name": "python",
   "nbconvert_exporter": "python",
   "pygments_lexer": "ipython3",
   "version": "3.10.8"
  }
 },
 "nbformat": 4,
 "nbformat_minor": 5
}
